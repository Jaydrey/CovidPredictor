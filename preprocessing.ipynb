{
 "cells": [
  {
   "cell_type": "code",
   "execution_count": 1,
   "id": "8ee7134b",
   "metadata": {},
   "outputs": [],
   "source": [
    "import pandas as pd\n",
    "import numpy as np\n",
    "import seaborn as sns\n",
    "import matplotlib.pyplot as plt"
   ]
  },
  {
   "cell_type": "markdown",
   "id": "76d33c5c-4723-4151-8729-dfd37379b634",
   "metadata": {},
   "source": [
    "## Problem Analysis \n",
    "The Covid problem is a classification problem that deals with predicting whether someone might have covid based on his or her symptoms. The columns gives us some of the symptoms. \n",
    "They include:\n",
    "- cough\n",
    "- fever\n",
    "- sore_throat\n",
    "- shortness_of_breath\n",
    "- head_ache\n",
    "- age_60_and_above\n",
    "- gender\n",
    "- test_indication\n",
    "\n",
    "The `corona result` column gives us if someone tested positive or negative.\n",
    "We will have to carry out data cleansing to rectify missing values, duplicates, wrongly formatted data, faulty data and the likes to prepare our data for training with classification models that we will later be building."
   ]
  },
  {
   "cell_type": "code",
   "execution_count": 2,
   "id": "c3d9b466",
   "metadata": {},
   "outputs": [
    {
     "name": "stderr",
     "output_type": "stream",
     "text": [
      "C:\\Users\\user\\anaconda3\\lib\\site-packages\\IPython\\core\\interactiveshell.py:3165: DtypeWarning: Columns (1,2,3,4,5) have mixed types.Specify dtype option on import or set low_memory=False.\n",
      "  has_raised = await self.run_ast_nodes(code_ast.body, cell_name,\n"
     ]
    }
   ],
   "source": [
    "corona = pd.read_csv('corona_tested_individuals_ver_006.english.csv')"
   ]
  },
  {
   "cell_type": "code",
   "execution_count": 3,
   "id": "91e682cb",
   "metadata": {},
   "outputs": [
    {
     "data": {
      "text/html": [
       "<div>\n",
       "<style scoped>\n",
       "    .dataframe tbody tr th:only-of-type {\n",
       "        vertical-align: middle;\n",
       "    }\n",
       "\n",
       "    .dataframe tbody tr th {\n",
       "        vertical-align: top;\n",
       "    }\n",
       "\n",
       "    .dataframe thead th {\n",
       "        text-align: right;\n",
       "    }\n",
       "</style>\n",
       "<table border=\"1\" class=\"dataframe\">\n",
       "  <thead>\n",
       "    <tr style=\"text-align: right;\">\n",
       "      <th></th>\n",
       "      <th>test_date</th>\n",
       "      <th>cough</th>\n",
       "      <th>fever</th>\n",
       "      <th>sore_throat</th>\n",
       "      <th>shortness_of_breath</th>\n",
       "      <th>head_ache</th>\n",
       "      <th>corona_result</th>\n",
       "      <th>age_60_and_above</th>\n",
       "      <th>gender</th>\n",
       "      <th>test_indication</th>\n",
       "    </tr>\n",
       "  </thead>\n",
       "  <tbody>\n",
       "    <tr>\n",
       "      <th>0</th>\n",
       "      <td>2020-04-30</td>\n",
       "      <td>0</td>\n",
       "      <td>0</td>\n",
       "      <td>0</td>\n",
       "      <td>0</td>\n",
       "      <td>0</td>\n",
       "      <td>negative</td>\n",
       "      <td>None</td>\n",
       "      <td>female</td>\n",
       "      <td>Other</td>\n",
       "    </tr>\n",
       "    <tr>\n",
       "      <th>1</th>\n",
       "      <td>2020-04-30</td>\n",
       "      <td>1</td>\n",
       "      <td>0</td>\n",
       "      <td>0</td>\n",
       "      <td>0</td>\n",
       "      <td>0</td>\n",
       "      <td>negative</td>\n",
       "      <td>None</td>\n",
       "      <td>female</td>\n",
       "      <td>Other</td>\n",
       "    </tr>\n",
       "    <tr>\n",
       "      <th>2</th>\n",
       "      <td>2020-04-30</td>\n",
       "      <td>0</td>\n",
       "      <td>1</td>\n",
       "      <td>0</td>\n",
       "      <td>0</td>\n",
       "      <td>0</td>\n",
       "      <td>negative</td>\n",
       "      <td>None</td>\n",
       "      <td>male</td>\n",
       "      <td>Other</td>\n",
       "    </tr>\n",
       "    <tr>\n",
       "      <th>3</th>\n",
       "      <td>2020-04-30</td>\n",
       "      <td>1</td>\n",
       "      <td>0</td>\n",
       "      <td>0</td>\n",
       "      <td>0</td>\n",
       "      <td>0</td>\n",
       "      <td>negative</td>\n",
       "      <td>None</td>\n",
       "      <td>female</td>\n",
       "      <td>Other</td>\n",
       "    </tr>\n",
       "    <tr>\n",
       "      <th>4</th>\n",
       "      <td>2020-04-30</td>\n",
       "      <td>1</td>\n",
       "      <td>0</td>\n",
       "      <td>0</td>\n",
       "      <td>0</td>\n",
       "      <td>0</td>\n",
       "      <td>negative</td>\n",
       "      <td>None</td>\n",
       "      <td>male</td>\n",
       "      <td>Other</td>\n",
       "    </tr>\n",
       "  </tbody>\n",
       "</table>\n",
       "</div>"
      ],
      "text/plain": [
       "    test_date cough fever sore_throat shortness_of_breath head_ache  \\\n",
       "0  2020-04-30     0     0           0                   0         0   \n",
       "1  2020-04-30     1     0           0                   0         0   \n",
       "2  2020-04-30     0     1           0                   0         0   \n",
       "3  2020-04-30     1     0           0                   0         0   \n",
       "4  2020-04-30     1     0           0                   0         0   \n",
       "\n",
       "  corona_result age_60_and_above  gender test_indication  \n",
       "0      negative             None  female           Other  \n",
       "1      negative             None  female           Other  \n",
       "2      negative             None    male           Other  \n",
       "3      negative             None  female           Other  \n",
       "4      negative             None    male           Other  "
      ]
     },
     "execution_count": 3,
     "metadata": {},
     "output_type": "execute_result"
    }
   ],
   "source": [
    "corona.head()"
   ]
  },
  {
   "cell_type": "code",
   "execution_count": 4,
   "id": "89003377",
   "metadata": {},
   "outputs": [
    {
     "name": "stdout",
     "output_type": "stream",
     "text": [
      "<class 'pandas.core.frame.DataFrame'>\n",
      "RangeIndex: 278848 entries, 0 to 278847\n",
      "Data columns (total 10 columns):\n",
      " #   Column               Non-Null Count   Dtype \n",
      "---  ------               --------------   ----- \n",
      " 0   test_date            278848 non-null  object\n",
      " 1   cough                278848 non-null  object\n",
      " 2   fever                278848 non-null  object\n",
      " 3   sore_throat          278848 non-null  object\n",
      " 4   shortness_of_breath  278848 non-null  object\n",
      " 5   head_ache            278848 non-null  object\n",
      " 6   corona_result        278848 non-null  object\n",
      " 7   age_60_and_above     278848 non-null  object\n",
      " 8   gender               278848 non-null  object\n",
      " 9   test_indication      278848 non-null  object\n",
      "dtypes: object(10)\n",
      "memory usage: 21.3+ MB\n"
     ]
    }
   ],
   "source": [
    "corona.info()"
   ]
  },
  {
   "cell_type": "code",
   "execution_count": 5,
   "id": "6663d029",
   "metadata": {},
   "outputs": [
    {
     "data": {
      "text/plain": [
       "(278848, 10)"
      ]
     },
     "execution_count": 5,
     "metadata": {},
     "output_type": "execute_result"
    }
   ],
   "source": [
    "corona.shape"
   ]
  },
  {
   "cell_type": "markdown",
   "id": "d77a6c0f",
   "metadata": {},
   "source": [
    "### Check for duplicates"
   ]
  },
  {
   "cell_type": "code",
   "execution_count": 6,
   "id": "63ee4358",
   "metadata": {},
   "outputs": [
    {
     "data": {
      "text/plain": [
       "272068"
      ]
     },
     "execution_count": 6,
     "metadata": {},
     "output_type": "execute_result"
    }
   ],
   "source": [
    "corona.duplicated().sum()"
   ]
  },
  {
   "cell_type": "code",
   "execution_count": 7,
   "id": "a92f5644",
   "metadata": {},
   "outputs": [],
   "source": [
    "corona_1 = corona.drop_duplicates()"
   ]
  },
  {
   "cell_type": "code",
   "execution_count": 8,
   "id": "4f8ddb62",
   "metadata": {},
   "outputs": [
    {
     "data": {
      "text/plain": [
       "0"
      ]
     },
     "execution_count": 8,
     "metadata": {},
     "output_type": "execute_result"
    }
   ],
   "source": [
    "corona_1.duplicated().sum()"
   ]
  },
  {
   "cell_type": "markdown",
   "id": "a3bd7806",
   "metadata": {},
   "source": [
    "### Check for null values or string None"
   ]
  },
  {
   "cell_type": "code",
   "execution_count": 9,
   "id": "03c46696",
   "metadata": {},
   "outputs": [],
   "source": [
    "corona_2 = corona_1.copy()"
   ]
  },
  {
   "cell_type": "code",
   "execution_count": 10,
   "id": "3309176d",
   "metadata": {},
   "outputs": [
    {
     "data": {
      "text/plain": [
       "0"
      ]
     },
     "execution_count": 10,
     "metadata": {},
     "output_type": "execute_result"
    }
   ],
   "source": [
    "corona_2.isnull().sum().sum()"
   ]
  },
  {
   "cell_type": "code",
   "execution_count": 11,
   "id": "ec7d3d6b",
   "metadata": {},
   "outputs": [
    {
     "name": "stdout",
     "output_type": "stream",
     "text": [
      "cough\n",
      "fever\n",
      "sore_throat\n",
      "shortness_of_breath\n",
      "head_ache\n",
      "age_60_and_above\n",
      "gender\n"
     ]
    }
   ],
   "source": [
    "for col in corona_2.columns:\n",
    "    if corona_2[col].dtype=='O':\n",
    "        if 'None' in corona_2[col].unique(): print(col)"
   ]
  },
  {
   "cell_type": "code",
   "execution_count": 12,
   "id": "f930c9c6",
   "metadata": {},
   "outputs": [],
   "source": [
    "## These columns have None string values"
   ]
  },
  {
   "cell_type": "code",
   "execution_count": 13,
   "id": "1e7f6099",
   "metadata": {},
   "outputs": [],
   "source": [
    "## Let's clean them"
   ]
  },
  {
   "cell_type": "markdown",
   "id": "0eb08c77",
   "metadata": {},
   "source": [
    "### Let's clean the ***cough*** column"
   ]
  },
  {
   "cell_type": "code",
   "execution_count": 14,
   "id": "44cb59be",
   "metadata": {},
   "outputs": [],
   "source": [
    "corona_3 = corona_2.copy()"
   ]
  },
  {
   "cell_type": "code",
   "execution_count": 15,
   "id": "0cbfeb13",
   "metadata": {},
   "outputs": [
    {
     "data": {
      "text/plain": [
       "array([0, 1, '0', '1', 'None'], dtype=object)"
      ]
     },
     "execution_count": 15,
     "metadata": {},
     "output_type": "execute_result"
    }
   ],
   "source": [
    "corona_3.cough.unique()"
   ]
  },
  {
   "cell_type": "code",
   "execution_count": 16,
   "id": "d299dbd6",
   "metadata": {},
   "outputs": [
    {
     "data": {
      "text/plain": [
       "1       3004\n",
       "0       2531\n",
       "1        622\n",
       "0        571\n",
       "None      52\n",
       "Name: cough, dtype: int64"
      ]
     },
     "execution_count": 16,
     "metadata": {},
     "output_type": "execute_result"
    }
   ],
   "source": [
    "## get the value counts of the None values\n",
    "corona_3.cough.value_counts()"
   ]
  },
  {
   "cell_type": "code",
   "execution_count": 17,
   "id": "32fd7cfa",
   "metadata": {},
   "outputs": [],
   "source": [
    "## Let's drop the None values\n",
    "index = corona_3[corona_3.cough=='None'].index\n",
    "corona_3 = corona_3.drop(index, axis=0)"
   ]
  },
  {
   "cell_type": "code",
   "execution_count": 18,
   "id": "198759a0",
   "metadata": {},
   "outputs": [
    {
     "data": {
      "text/plain": [
       "array([0, 1, '0', '1'], dtype=object)"
      ]
     },
     "execution_count": 18,
     "metadata": {},
     "output_type": "execute_result"
    }
   ],
   "source": [
    "corona_3.cough.unique()"
   ]
  },
  {
   "cell_type": "code",
   "execution_count": 19,
   "id": "eb025734",
   "metadata": {},
   "outputs": [],
   "source": [
    "## Let's now convert the data type of the series to integer\n",
    "corona_3.cough = corona_3.cough.astype('int')"
   ]
  },
  {
   "cell_type": "code",
   "execution_count": 20,
   "id": "965d4fd4",
   "metadata": {},
   "outputs": [
    {
     "data": {
      "text/plain": [
       "dtype('int32')"
      ]
     },
     "execution_count": 20,
     "metadata": {},
     "output_type": "execute_result"
    }
   ],
   "source": [
    "corona_3.cough.dtype"
   ]
  },
  {
   "cell_type": "code",
   "execution_count": 21,
   "id": "4c5f29ab",
   "metadata": {},
   "outputs": [
    {
     "data": {
      "text/plain": [
       "array([0, 1])"
      ]
     },
     "execution_count": 21,
     "metadata": {},
     "output_type": "execute_result"
    }
   ],
   "source": [
    "corona_3.cough.unique()"
   ]
  },
  {
   "cell_type": "markdown",
   "id": "47766181",
   "metadata": {},
   "source": [
    "### Let's clean the ***fever*** column"
   ]
  },
  {
   "cell_type": "code",
   "execution_count": 22,
   "id": "83e69546",
   "metadata": {},
   "outputs": [],
   "source": [
    "corona_4 = corona_3.copy()"
   ]
  },
  {
   "cell_type": "code",
   "execution_count": 23,
   "id": "51fcbe2b",
   "metadata": {},
   "outputs": [
    {
     "data": {
      "text/plain": [
       "array([0, 1, '0', '1', 'None'], dtype=object)"
      ]
     },
     "execution_count": 23,
     "metadata": {},
     "output_type": "execute_result"
    }
   ],
   "source": [
    "corona_4.fever.unique()"
   ]
  },
  {
   "cell_type": "code",
   "execution_count": 24,
   "id": "2a92ab3e",
   "metadata": {},
   "outputs": [
    {
     "data": {
      "text/plain": [
       "0       2889\n",
       "1       2644\n",
       "0        678\n",
       "1        515\n",
       "None       2\n",
       "Name: fever, dtype: int64"
      ]
     },
     "execution_count": 24,
     "metadata": {},
     "output_type": "execute_result"
    }
   ],
   "source": [
    "## get the value counts of the None values\n",
    "corona_4.fever.value_counts()"
   ]
  },
  {
   "cell_type": "code",
   "execution_count": 25,
   "id": "c0d35397",
   "metadata": {},
   "outputs": [],
   "source": [
    "## remove none\n",
    "index = corona_4[corona_4.fever=='None'].index\n",
    "corona_4 = corona_4.drop(index, axis=0)"
   ]
  },
  {
   "cell_type": "code",
   "execution_count": 26,
   "id": "97e86036",
   "metadata": {},
   "outputs": [
    {
     "data": {
      "text/plain": [
       "array([0, 1, '0', '1'], dtype=object)"
      ]
     },
     "execution_count": 26,
     "metadata": {},
     "output_type": "execute_result"
    }
   ],
   "source": [
    "corona_4.fever.unique()"
   ]
  },
  {
   "cell_type": "code",
   "execution_count": 27,
   "id": "fe44b63e",
   "metadata": {},
   "outputs": [],
   "source": [
    "## Let's now convert the data type of the series to integer\n",
    "corona_4.fever = corona_4.fever.astype('int')"
   ]
  },
  {
   "cell_type": "code",
   "execution_count": 28,
   "id": "5bf7ff46",
   "metadata": {},
   "outputs": [
    {
     "data": {
      "text/plain": [
       "dtype('int32')"
      ]
     },
     "execution_count": 28,
     "metadata": {},
     "output_type": "execute_result"
    }
   ],
   "source": [
    "corona_4.cough.dtype"
   ]
  },
  {
   "cell_type": "code",
   "execution_count": 29,
   "id": "286c1333",
   "metadata": {},
   "outputs": [
    {
     "data": {
      "text/plain": [
       "array([0, 1])"
      ]
     },
     "execution_count": 29,
     "metadata": {},
     "output_type": "execute_result"
    }
   ],
   "source": [
    "corona_4.cough.unique()"
   ]
  },
  {
   "cell_type": "markdown",
   "id": "6f6f6615",
   "metadata": {},
   "source": [
    "### Let's clean the ***sore_throat*** column"
   ]
  },
  {
   "cell_type": "code",
   "execution_count": 30,
   "id": "a9fd2220",
   "metadata": {},
   "outputs": [],
   "source": [
    "corona_5 = corona_4.copy()"
   ]
  },
  {
   "cell_type": "code",
   "execution_count": 31,
   "id": "8c8b7ffa",
   "metadata": {},
   "outputs": [
    {
     "data": {
      "text/plain": [
       "array([0, 1, '0', '1'], dtype=object)"
      ]
     },
     "execution_count": 31,
     "metadata": {},
     "output_type": "execute_result"
    }
   ],
   "source": [
    "corona_5.sore_throat.unique()"
   ]
  },
  {
   "cell_type": "code",
   "execution_count": 32,
   "id": "12f7c6a1",
   "metadata": {},
   "outputs": [],
   "source": [
    "## Let's convert the data type of the series to integer\n",
    "corona_5.sore_throat = corona_5.sore_throat.astype('int')"
   ]
  },
  {
   "cell_type": "code",
   "execution_count": 33,
   "id": "4acdcd80",
   "metadata": {},
   "outputs": [
    {
     "data": {
      "text/plain": [
       "dtype('int32')"
      ]
     },
     "execution_count": 33,
     "metadata": {},
     "output_type": "execute_result"
    }
   ],
   "source": [
    "corona_5.sore_throat.dtype"
   ]
  },
  {
   "cell_type": "code",
   "execution_count": 34,
   "id": "644b1023",
   "metadata": {},
   "outputs": [
    {
     "data": {
      "text/plain": [
       "array([0, 1])"
      ]
     },
     "execution_count": 34,
     "metadata": {},
     "output_type": "execute_result"
    }
   ],
   "source": [
    "corona_5.sore_throat.unique()"
   ]
  },
  {
   "cell_type": "markdown",
   "id": "ae3a97f3",
   "metadata": {},
   "source": [
    "### Let's clean the ***shortness_of_breath*** column"
   ]
  },
  {
   "cell_type": "code",
   "execution_count": 35,
   "id": "c18509a4",
   "metadata": {},
   "outputs": [],
   "source": [
    "corona_6 = corona_5.copy()"
   ]
  },
  {
   "cell_type": "code",
   "execution_count": 36,
   "id": "5bd56217",
   "metadata": {},
   "outputs": [
    {
     "data": {
      "text/plain": [
       "array([0, 1, '0', '1'], dtype=object)"
      ]
     },
     "execution_count": 36,
     "metadata": {},
     "output_type": "execute_result"
    }
   ],
   "source": [
    "corona_6.shortness_of_breath.unique()"
   ]
  },
  {
   "cell_type": "code",
   "execution_count": 37,
   "id": "142c0a4d",
   "metadata": {},
   "outputs": [],
   "source": [
    "## Let's convert the data type of the series to integer\n",
    "corona_6.shortness_of_breath = corona_6.shortness_of_breath.astype('int')"
   ]
  },
  {
   "cell_type": "code",
   "execution_count": 38,
   "id": "905c5879",
   "metadata": {},
   "outputs": [
    {
     "data": {
      "text/plain": [
       "dtype('int32')"
      ]
     },
     "execution_count": 38,
     "metadata": {},
     "output_type": "execute_result"
    }
   ],
   "source": [
    "corona_6.shortness_of_breath.dtype"
   ]
  },
  {
   "cell_type": "code",
   "execution_count": 39,
   "id": "ed2a7678",
   "metadata": {},
   "outputs": [
    {
     "data": {
      "text/plain": [
       "array([0, 1])"
      ]
     },
     "execution_count": 39,
     "metadata": {},
     "output_type": "execute_result"
    }
   ],
   "source": [
    "corona_6.shortness_of_breath.unique()"
   ]
  },
  {
   "cell_type": "markdown",
   "id": "c69769f4",
   "metadata": {},
   "source": [
    "### Let's clean the ***head_ache*** column"
   ]
  },
  {
   "cell_type": "code",
   "execution_count": 40,
   "id": "76e8dea3",
   "metadata": {},
   "outputs": [],
   "source": [
    "corona_7 = corona_6.copy()"
   ]
  },
  {
   "cell_type": "code",
   "execution_count": 41,
   "id": "7892fc29",
   "metadata": {},
   "outputs": [
    {
     "data": {
      "text/plain": [
       "array([0, 1, '0', '1'], dtype=object)"
      ]
     },
     "execution_count": 41,
     "metadata": {},
     "output_type": "execute_result"
    }
   ],
   "source": [
    "corona_7.head_ache.unique()"
   ]
  },
  {
   "cell_type": "code",
   "execution_count": 42,
   "id": "2c916fde",
   "metadata": {},
   "outputs": [],
   "source": [
    "## Let's convert the data type of the series to integer\r\n",
    "corona_7.head_ache = corona_7.head_ache.astype('int')"
   ]
  },
  {
   "cell_type": "code",
   "execution_count": 43,
   "id": "2983463b",
   "metadata": {},
   "outputs": [
    {
     "data": {
      "text/plain": [
       "dtype('int32')"
      ]
     },
     "execution_count": 43,
     "metadata": {},
     "output_type": "execute_result"
    }
   ],
   "source": [
    "corona_7.head_ache.dtype"
   ]
  },
  {
   "cell_type": "code",
   "execution_count": 44,
   "id": "ffb7dfa2",
   "metadata": {},
   "outputs": [
    {
     "data": {
      "text/plain": [
       "array([0, 1])"
      ]
     },
     "execution_count": 44,
     "metadata": {},
     "output_type": "execute_result"
    }
   ],
   "source": [
    "corona_7.head_ache.unique()"
   ]
  },
  {
   "cell_type": "code",
   "execution_count": 45,
   "id": "56abd6ec",
   "metadata": {},
   "outputs": [
    {
     "data": {
      "text/plain": [
       "(6726, 10)"
      ]
     },
     "execution_count": 45,
     "metadata": {},
     "output_type": "execute_result"
    }
   ],
   "source": [
    "corona_7.shape"
   ]
  },
  {
   "cell_type": "markdown",
   "id": "4988168e",
   "metadata": {},
   "source": [
    "### Let's clean the ***age_60_and_above*** column"
   ]
  },
  {
   "cell_type": "code",
   "execution_count": 46,
   "id": "f44c2db5",
   "metadata": {},
   "outputs": [],
   "source": [
    "corona_8 = corona_7.copy()"
   ]
  },
  {
   "cell_type": "code",
   "execution_count": 47,
   "id": "ed802c80",
   "metadata": {},
   "outputs": [
    {
     "data": {
      "text/plain": [
       "array(['None', 'Yes', 'No'], dtype=object)"
      ]
     },
     "execution_count": 47,
     "metadata": {},
     "output_type": "execute_result"
    }
   ],
   "source": [
    "corona_8.age_60_and_above.unique()"
   ]
  },
  {
   "cell_type": "code",
   "execution_count": 48,
   "id": "528c283e",
   "metadata": {},
   "outputs": [
    {
     "data": {
      "text/plain": [
       "No      3620\n",
       "Yes     1730\n",
       "None    1376\n",
       "Name: age_60_and_above, dtype: int64"
      ]
     },
     "execution_count": 48,
     "metadata": {},
     "output_type": "execute_result"
    }
   ],
   "source": [
    "## get the value counts of the None values\r\n",
    "corona_8.age_60_and_above.value_counts()"
   ]
  },
  {
   "cell_type": "code",
   "execution_count": 49,
   "id": "f39e911a",
   "metadata": {},
   "outputs": [
    {
     "data": {
      "text/html": [
       "<div>\n",
       "<style scoped>\n",
       "    .dataframe tbody tr th:only-of-type {\n",
       "        vertical-align: middle;\n",
       "    }\n",
       "\n",
       "    .dataframe tbody tr th {\n",
       "        vertical-align: top;\n",
       "    }\n",
       "\n",
       "    .dataframe thead th {\n",
       "        text-align: right;\n",
       "    }\n",
       "</style>\n",
       "<table border=\"1\" class=\"dataframe\">\n",
       "  <thead>\n",
       "    <tr style=\"text-align: right;\">\n",
       "      <th></th>\n",
       "      <th>test_date</th>\n",
       "      <th>cough</th>\n",
       "      <th>fever</th>\n",
       "      <th>sore_throat</th>\n",
       "      <th>shortness_of_breath</th>\n",
       "      <th>head_ache</th>\n",
       "      <th>corona_result</th>\n",
       "      <th>age_60_and_above</th>\n",
       "      <th>gender</th>\n",
       "      <th>test_indication</th>\n",
       "    </tr>\n",
       "  </thead>\n",
       "  <tbody>\n",
       "    <tr>\n",
       "      <th>273163</th>\n",
       "      <td>2020-03-17</td>\n",
       "      <td>1</td>\n",
       "      <td>0</td>\n",
       "      <td>0</td>\n",
       "      <td>0</td>\n",
       "      <td>0</td>\n",
       "      <td>positive</td>\n",
       "      <td>Yes</td>\n",
       "      <td>None</td>\n",
       "      <td>Abroad</td>\n",
       "    </tr>\n",
       "    <tr>\n",
       "      <th>273184</th>\n",
       "      <td>2020-03-17</td>\n",
       "      <td>1</td>\n",
       "      <td>0</td>\n",
       "      <td>0</td>\n",
       "      <td>0</td>\n",
       "      <td>0</td>\n",
       "      <td>negative</td>\n",
       "      <td>Yes</td>\n",
       "      <td>None</td>\n",
       "      <td>Other</td>\n",
       "    </tr>\n",
       "    <tr>\n",
       "      <th>273195</th>\n",
       "      <td>2020-03-17</td>\n",
       "      <td>0</td>\n",
       "      <td>1</td>\n",
       "      <td>0</td>\n",
       "      <td>0</td>\n",
       "      <td>0</td>\n",
       "      <td>positive</td>\n",
       "      <td>Yes</td>\n",
       "      <td>None</td>\n",
       "      <td>Abroad</td>\n",
       "    </tr>\n",
       "    <tr>\n",
       "      <th>273210</th>\n",
       "      <td>2020-03-17</td>\n",
       "      <td>0</td>\n",
       "      <td>1</td>\n",
       "      <td>0</td>\n",
       "      <td>1</td>\n",
       "      <td>0</td>\n",
       "      <td>negative</td>\n",
       "      <td>Yes</td>\n",
       "      <td>None</td>\n",
       "      <td>Contact with confirmed</td>\n",
       "    </tr>\n",
       "    <tr>\n",
       "      <th>273213</th>\n",
       "      <td>2020-03-17</td>\n",
       "      <td>1</td>\n",
       "      <td>1</td>\n",
       "      <td>0</td>\n",
       "      <td>0</td>\n",
       "      <td>0</td>\n",
       "      <td>positive</td>\n",
       "      <td>Yes</td>\n",
       "      <td>None</td>\n",
       "      <td>Abroad</td>\n",
       "    </tr>\n",
       "    <tr>\n",
       "      <th>273228</th>\n",
       "      <td>2020-03-17</td>\n",
       "      <td>1</td>\n",
       "      <td>1</td>\n",
       "      <td>0</td>\n",
       "      <td>0</td>\n",
       "      <td>0</td>\n",
       "      <td>positive</td>\n",
       "      <td>Yes</td>\n",
       "      <td>None</td>\n",
       "      <td>Other</td>\n",
       "    </tr>\n",
       "    <tr>\n",
       "      <th>273434</th>\n",
       "      <td>2020-03-17</td>\n",
       "      <td>1</td>\n",
       "      <td>0</td>\n",
       "      <td>0</td>\n",
       "      <td>0</td>\n",
       "      <td>0</td>\n",
       "      <td>positive</td>\n",
       "      <td>Yes</td>\n",
       "      <td>None</td>\n",
       "      <td>Contact with confirmed</td>\n",
       "    </tr>\n",
       "    <tr>\n",
       "      <th>273692</th>\n",
       "      <td>2020-03-17</td>\n",
       "      <td>1</td>\n",
       "      <td>0</td>\n",
       "      <td>1</td>\n",
       "      <td>0</td>\n",
       "      <td>0</td>\n",
       "      <td>negative</td>\n",
       "      <td>Yes</td>\n",
       "      <td>None</td>\n",
       "      <td>Abroad</td>\n",
       "    </tr>\n",
       "    <tr>\n",
       "      <th>273699</th>\n",
       "      <td>2020-03-17</td>\n",
       "      <td>1</td>\n",
       "      <td>0</td>\n",
       "      <td>0</td>\n",
       "      <td>1</td>\n",
       "      <td>0</td>\n",
       "      <td>negative</td>\n",
       "      <td>Yes</td>\n",
       "      <td>None</td>\n",
       "      <td>Other</td>\n",
       "    </tr>\n",
       "    <tr>\n",
       "      <th>273703</th>\n",
       "      <td>2020-03-17</td>\n",
       "      <td>1</td>\n",
       "      <td>0</td>\n",
       "      <td>0</td>\n",
       "      <td>0</td>\n",
       "      <td>0</td>\n",
       "      <td>negative</td>\n",
       "      <td>Yes</td>\n",
       "      <td>None</td>\n",
       "      <td>Abroad</td>\n",
       "    </tr>\n",
       "    <tr>\n",
       "      <th>273710</th>\n",
       "      <td>2020-03-17</td>\n",
       "      <td>1</td>\n",
       "      <td>1</td>\n",
       "      <td>0</td>\n",
       "      <td>0</td>\n",
       "      <td>0</td>\n",
       "      <td>negative</td>\n",
       "      <td>Yes</td>\n",
       "      <td>None</td>\n",
       "      <td>Abroad</td>\n",
       "    </tr>\n",
       "    <tr>\n",
       "      <th>273819</th>\n",
       "      <td>2020-03-17</td>\n",
       "      <td>1</td>\n",
       "      <td>1</td>\n",
       "      <td>0</td>\n",
       "      <td>0</td>\n",
       "      <td>1</td>\n",
       "      <td>other</td>\n",
       "      <td>Yes</td>\n",
       "      <td>None</td>\n",
       "      <td>Other</td>\n",
       "    </tr>\n",
       "    <tr>\n",
       "      <th>273916</th>\n",
       "      <td>2020-03-17</td>\n",
       "      <td>0</td>\n",
       "      <td>0</td>\n",
       "      <td>1</td>\n",
       "      <td>0</td>\n",
       "      <td>0</td>\n",
       "      <td>negative</td>\n",
       "      <td>Yes</td>\n",
       "      <td>None</td>\n",
       "      <td>Other</td>\n",
       "    </tr>\n",
       "    <tr>\n",
       "      <th>273923</th>\n",
       "      <td>2020-03-17</td>\n",
       "      <td>0</td>\n",
       "      <td>1</td>\n",
       "      <td>0</td>\n",
       "      <td>0</td>\n",
       "      <td>0</td>\n",
       "      <td>negative</td>\n",
       "      <td>Yes</td>\n",
       "      <td>None</td>\n",
       "      <td>Other</td>\n",
       "    </tr>\n",
       "    <tr>\n",
       "      <th>273975</th>\n",
       "      <td>2020-03-17</td>\n",
       "      <td>0</td>\n",
       "      <td>1</td>\n",
       "      <td>0</td>\n",
       "      <td>1</td>\n",
       "      <td>1</td>\n",
       "      <td>positive</td>\n",
       "      <td>Yes</td>\n",
       "      <td>None</td>\n",
       "      <td>Contact with confirmed</td>\n",
       "    </tr>\n",
       "    <tr>\n",
       "      <th>273991</th>\n",
       "      <td>2020-03-17</td>\n",
       "      <td>0</td>\n",
       "      <td>0</td>\n",
       "      <td>0</td>\n",
       "      <td>0</td>\n",
       "      <td>0</td>\n",
       "      <td>positive</td>\n",
       "      <td>Yes</td>\n",
       "      <td>None</td>\n",
       "      <td>Abroad</td>\n",
       "    </tr>\n",
       "    <tr>\n",
       "      <th>273996</th>\n",
       "      <td>2020-03-17</td>\n",
       "      <td>1</td>\n",
       "      <td>1</td>\n",
       "      <td>0</td>\n",
       "      <td>1</td>\n",
       "      <td>0</td>\n",
       "      <td>positive</td>\n",
       "      <td>Yes</td>\n",
       "      <td>None</td>\n",
       "      <td>Abroad</td>\n",
       "    </tr>\n",
       "    <tr>\n",
       "      <th>274085</th>\n",
       "      <td>2020-03-17</td>\n",
       "      <td>0</td>\n",
       "      <td>1</td>\n",
       "      <td>0</td>\n",
       "      <td>0</td>\n",
       "      <td>0</td>\n",
       "      <td>negative</td>\n",
       "      <td>Yes</td>\n",
       "      <td>None</td>\n",
       "      <td>Abroad</td>\n",
       "    </tr>\n",
       "    <tr>\n",
       "      <th>274186</th>\n",
       "      <td>2020-03-17</td>\n",
       "      <td>0</td>\n",
       "      <td>0</td>\n",
       "      <td>0</td>\n",
       "      <td>0</td>\n",
       "      <td>0</td>\n",
       "      <td>positive</td>\n",
       "      <td>Yes</td>\n",
       "      <td>None</td>\n",
       "      <td>Other</td>\n",
       "    </tr>\n",
       "    <tr>\n",
       "      <th>274309</th>\n",
       "      <td>2020-03-17</td>\n",
       "      <td>0</td>\n",
       "      <td>0</td>\n",
       "      <td>0</td>\n",
       "      <td>0</td>\n",
       "      <td>0</td>\n",
       "      <td>positive</td>\n",
       "      <td>Yes</td>\n",
       "      <td>None</td>\n",
       "      <td>Contact with confirmed</td>\n",
       "    </tr>\n",
       "  </tbody>\n",
       "</table>\n",
       "</div>"
      ],
      "text/plain": [
       "         test_date  cough  fever  sore_throat  shortness_of_breath  head_ache  \\\n",
       "273163  2020-03-17      1      0            0                    0          0   \n",
       "273184  2020-03-17      1      0            0                    0          0   \n",
       "273195  2020-03-17      0      1            0                    0          0   \n",
       "273210  2020-03-17      0      1            0                    1          0   \n",
       "273213  2020-03-17      1      1            0                    0          0   \n",
       "273228  2020-03-17      1      1            0                    0          0   \n",
       "273434  2020-03-17      1      0            0                    0          0   \n",
       "273692  2020-03-17      1      0            1                    0          0   \n",
       "273699  2020-03-17      1      0            0                    1          0   \n",
       "273703  2020-03-17      1      0            0                    0          0   \n",
       "273710  2020-03-17      1      1            0                    0          0   \n",
       "273819  2020-03-17      1      1            0                    0          1   \n",
       "273916  2020-03-17      0      0            1                    0          0   \n",
       "273923  2020-03-17      0      1            0                    0          0   \n",
       "273975  2020-03-17      0      1            0                    1          1   \n",
       "273991  2020-03-17      0      0            0                    0          0   \n",
       "273996  2020-03-17      1      1            0                    1          0   \n",
       "274085  2020-03-17      0      1            0                    0          0   \n",
       "274186  2020-03-17      0      0            0                    0          0   \n",
       "274309  2020-03-17      0      0            0                    0          0   \n",
       "\n",
       "       corona_result age_60_and_above gender         test_indication  \n",
       "273163      positive              Yes   None                  Abroad  \n",
       "273184      negative              Yes   None                   Other  \n",
       "273195      positive              Yes   None                  Abroad  \n",
       "273210      negative              Yes   None  Contact with confirmed  \n",
       "273213      positive              Yes   None                  Abroad  \n",
       "273228      positive              Yes   None                   Other  \n",
       "273434      positive              Yes   None  Contact with confirmed  \n",
       "273692      negative              Yes   None                  Abroad  \n",
       "273699      negative              Yes   None                   Other  \n",
       "273703      negative              Yes   None                  Abroad  \n",
       "273710      negative              Yes   None                  Abroad  \n",
       "273819         other              Yes   None                   Other  \n",
       "273916      negative              Yes   None                   Other  \n",
       "273923      negative              Yes   None                   Other  \n",
       "273975      positive              Yes   None  Contact with confirmed  \n",
       "273991      positive              Yes   None                  Abroad  \n",
       "273996      positive              Yes   None                  Abroad  \n",
       "274085      negative              Yes   None                  Abroad  \n",
       "274186      positive              Yes   None                   Other  \n",
       "274309      positive              Yes   None  Contact with confirmed  "
      ]
     },
     "execution_count": 49,
     "metadata": {},
     "output_type": "execute_result"
    }
   ],
   "source": [
    "corona_8[corona_8.age_60_and_above=='Yes'].tail(20)"
   ]
  },
  {
   "cell_type": "code",
   "execution_count": 50,
   "id": "2eb972c3",
   "metadata": {},
   "outputs": [
    {
     "data": {
      "text/html": [
       "<div>\n",
       "<style scoped>\n",
       "    .dataframe tbody tr th:only-of-type {\n",
       "        vertical-align: middle;\n",
       "    }\n",
       "\n",
       "    .dataframe tbody tr th {\n",
       "        vertical-align: top;\n",
       "    }\n",
       "\n",
       "    .dataframe thead th {\n",
       "        text-align: right;\n",
       "    }\n",
       "</style>\n",
       "<table border=\"1\" class=\"dataframe\">\n",
       "  <thead>\n",
       "    <tr style=\"text-align: right;\">\n",
       "      <th></th>\n",
       "      <th>cough</th>\n",
       "      <th>fever</th>\n",
       "      <th>sore_throat</th>\n",
       "      <th>shortness_of_breath</th>\n",
       "      <th>head_ache</th>\n",
       "    </tr>\n",
       "    <tr>\n",
       "      <th>age_60_and_above</th>\n",
       "      <th></th>\n",
       "      <th></th>\n",
       "      <th></th>\n",
       "      <th></th>\n",
       "      <th></th>\n",
       "    </tr>\n",
       "  </thead>\n",
       "  <tbody>\n",
       "    <tr>\n",
       "      <th>No</th>\n",
       "      <td>1982</td>\n",
       "      <td>1712</td>\n",
       "      <td>916</td>\n",
       "      <td>712</td>\n",
       "      <td>1015</td>\n",
       "    </tr>\n",
       "    <tr>\n",
       "      <th>None</th>\n",
       "      <td>714</td>\n",
       "      <td>597</td>\n",
       "      <td>143</td>\n",
       "      <td>125</td>\n",
       "      <td>92</td>\n",
       "    </tr>\n",
       "    <tr>\n",
       "      <th>Yes</th>\n",
       "      <td>928</td>\n",
       "      <td>850</td>\n",
       "      <td>183</td>\n",
       "      <td>241</td>\n",
       "      <td>243</td>\n",
       "    </tr>\n",
       "  </tbody>\n",
       "</table>\n",
       "</div>"
      ],
      "text/plain": [
       "                  cough  fever  sore_throat  shortness_of_breath  head_ache\n",
       "age_60_and_above                                                           \n",
       "No                 1982   1712          916                  712       1015\n",
       "None                714    597          143                  125         92\n",
       "Yes                 928    850          183                  241        243"
      ]
     },
     "execution_count": 50,
     "metadata": {},
     "output_type": "execute_result"
    }
   ],
   "source": [
    "corona_8.groupby('age_60_and_above').sum()"
   ]
  },
  {
   "cell_type": "code",
   "execution_count": 51,
   "id": "aa2281c8",
   "metadata": {},
   "outputs": [],
   "source": [
    "### Let's drop the age_60_and_above containing the None\r\n",
    "index = corona_8[corona_8.age_60_and_above=='None'].index\r\n",
    "corona_8a = corona_8.drop(index, axis=0)"
   ]
  },
  {
   "cell_type": "code",
   "execution_count": 52,
   "id": "fca966cf",
   "metadata": {},
   "outputs": [],
   "source": [
    "## create another df that doesnt have the age column\r\n",
    "corona_8b = corona_8.drop('age_60_and_above', axis=1)"
   ]
  },
  {
   "cell_type": "code",
   "execution_count": 53,
   "id": "7d4434ce",
   "metadata": {},
   "outputs": [
    {
     "data": {
      "text/plain": [
       "array(['Yes', 'No'], dtype=object)"
      ]
     },
     "execution_count": 53,
     "metadata": {},
     "output_type": "execute_result"
    }
   ],
   "source": [
    "corona_8a.age_60_and_above.unique()"
   ]
  },
  {
   "cell_type": "markdown",
   "id": "19e0f2bc",
   "metadata": {},
   "source": [
    "### Let's clean the ***corona_result*** column"
   ]
  },
  {
   "cell_type": "markdown",
   "id": "daeef64c",
   "metadata": {},
   "source": [
    "#### working with df with age column"
   ]
  },
  {
   "cell_type": "code",
   "execution_count": 54,
   "id": "b7f23734",
   "metadata": {},
   "outputs": [],
   "source": [
    "corona_9 = corona_8a.copy()"
   ]
  },
  {
   "cell_type": "code",
   "execution_count": 55,
   "id": "1c6f87bf",
   "metadata": {},
   "outputs": [
    {
     "data": {
      "text/plain": [
       "array(['negative', 'positive', 'other'], dtype=object)"
      ]
     },
     "execution_count": 55,
     "metadata": {},
     "output_type": "execute_result"
    }
   ],
   "source": [
    "corona_9.corona_result.unique()"
   ]
  },
  {
   "cell_type": "code",
   "execution_count": 56,
   "id": "b219509d",
   "metadata": {},
   "outputs": [
    {
     "data": {
      "text/plain": [
       "positive    3233\n",
       "negative    1666\n",
       "other        451\n",
       "Name: corona_result, dtype: int64"
      ]
     },
     "execution_count": 56,
     "metadata": {},
     "output_type": "execute_result"
    }
   ],
   "source": [
    "# check the count value\r\n",
    "corona_9.corona_result.value_counts()"
   ]
  },
  {
   "cell_type": "code",
   "execution_count": 57,
   "id": "e9dd5609",
   "metadata": {},
   "outputs": [],
   "source": [
    "## drop rows with other value\r\n",
    "index = corona_9[corona_9.corona_result=='other'].index\r\n",
    "corona_9 = corona_9.drop(index, axis=0)"
   ]
  },
  {
   "cell_type": "code",
   "execution_count": 58,
   "id": "5580fc5b",
   "metadata": {},
   "outputs": [
    {
     "data": {
      "text/plain": [
       "array(['negative', 'positive'], dtype=object)"
      ]
     },
     "execution_count": 58,
     "metadata": {},
     "output_type": "execute_result"
    }
   ],
   "source": [
    "corona_9.corona_result.unique()"
   ]
  },
  {
   "cell_type": "markdown",
   "id": "704a6ccb",
   "metadata": {},
   "source": [
    "#### working with df without age column"
   ]
  },
  {
   "cell_type": "code",
   "execution_count": 59,
   "id": "ca792cb2",
   "metadata": {},
   "outputs": [
    {
     "data": {
      "text/plain": [
       "array(['negative', 'positive', 'other'], dtype=object)"
      ]
     },
     "execution_count": 59,
     "metadata": {},
     "output_type": "execute_result"
    }
   ],
   "source": [
    "corona_8b.corona_result.unique()"
   ]
  },
  {
   "cell_type": "code",
   "execution_count": 60,
   "id": "5c877c3f",
   "metadata": {},
   "outputs": [],
   "source": [
    "## drop rows with other value\r\n",
    "index = corona_8b[corona_8b.corona_result=='other'].index\r\n",
    "corona_8b = corona_8b.drop(index, axis=0)"
   ]
  },
  {
   "cell_type": "code",
   "execution_count": 61,
   "id": "2bda3481",
   "metadata": {},
   "outputs": [
    {
     "data": {
      "text/plain": [
       "array(['negative', 'positive'], dtype=object)"
      ]
     },
     "execution_count": 61,
     "metadata": {},
     "output_type": "execute_result"
    }
   ],
   "source": [
    "corona_8b.corona_result.unique()"
   ]
  },
  {
   "cell_type": "code",
   "execution_count": 62,
   "id": "228dec6e",
   "metadata": {},
   "outputs": [
    {
     "data": {
      "text/plain": [
       "(6054, 9)"
      ]
     },
     "execution_count": 62,
     "metadata": {},
     "output_type": "execute_result"
    }
   ],
   "source": [
    "corona_8b.shape"
   ]
  },
  {
   "cell_type": "code",
   "execution_count": 63,
   "id": "efabdb7a",
   "metadata": {},
   "outputs": [
    {
     "data": {
      "text/plain": [
       "(4899, 10)"
      ]
     },
     "execution_count": 63,
     "metadata": {},
     "output_type": "execute_result"
    }
   ],
   "source": [
    "corona_9.shape"
   ]
  },
  {
   "cell_type": "code",
   "execution_count": 64,
   "id": "e6025b1a",
   "metadata": {},
   "outputs": [],
   "source": [
    "## corona_9 has the same rows as corona_8b with addition of one column, we'll go with these dataframe"
   ]
  },
  {
   "cell_type": "markdown",
   "id": "95c6521b",
   "metadata": {},
   "source": [
    "### Let's clean the gender column"
   ]
  },
  {
   "cell_type": "code",
   "execution_count": 65,
   "id": "9c2d26ef",
   "metadata": {},
   "outputs": [],
   "source": [
    "corona_10 = corona_9.copy()"
   ]
  },
  {
   "cell_type": "code",
   "execution_count": 66,
   "id": "5bc60178",
   "metadata": {},
   "outputs": [
    {
     "data": {
      "text/plain": [
       "array(['male', 'female', 'None'], dtype=object)"
      ]
     },
     "execution_count": 66,
     "metadata": {},
     "output_type": "execute_result"
    }
   ],
   "source": [
    "corona_10.gender.unique()"
   ]
  },
  {
   "cell_type": "code",
   "execution_count": 67,
   "id": "4f970375",
   "metadata": {},
   "outputs": [
    {
     "data": {
      "text/plain": [
       "male      2094\n",
       "female    2084\n",
       "None       721\n",
       "Name: gender, dtype: int64"
      ]
     },
     "execution_count": 67,
     "metadata": {},
     "output_type": "execute_result"
    }
   ],
   "source": [
    "## check the counts for None\r\n",
    "corona_10.gender.value_counts()"
   ]
  },
  {
   "cell_type": "code",
   "execution_count": 68,
   "id": "ae213a21",
   "metadata": {},
   "outputs": [],
   "source": [
    "## create 2 dataframes one to drop the gener column and the other to delete rows containing None\r\n",
    "corona_10a = corona_10.drop('gender', axis=1)"
   ]
  },
  {
   "cell_type": "code",
   "execution_count": 69,
   "id": "06c4998e",
   "metadata": {},
   "outputs": [],
   "source": [
    "index = corona_10[corona_10.gender=='None'].index\r\n",
    "corona_10b = corona_10.drop(index, axis=0)"
   ]
  },
  {
   "cell_type": "code",
   "execution_count": 70,
   "id": "d8dbc54c",
   "metadata": {},
   "outputs": [
    {
     "data": {
      "text/plain": [
       "(4178, 10)"
      ]
     },
     "execution_count": 70,
     "metadata": {},
     "output_type": "execute_result"
    }
   ],
   "source": [
    "corona_10b.shape"
   ]
  },
  {
   "cell_type": "code",
   "execution_count": 71,
   "id": "13f47c09",
   "metadata": {},
   "outputs": [
    {
     "data": {
      "text/plain": [
       "(4899, 9)"
      ]
     },
     "execution_count": 71,
     "metadata": {},
     "output_type": "execute_result"
    }
   ],
   "source": [
    "corona_10a.shape"
   ]
  },
  {
   "cell_type": "code",
   "execution_count": 72,
   "id": "a08c5edb",
   "metadata": {},
   "outputs": [
    {
     "data": {
      "text/plain": [
       "array(['male', 'female'], dtype=object)"
      ]
     },
     "execution_count": 72,
     "metadata": {},
     "output_type": "execute_result"
    }
   ],
   "source": [
    "corona_10b.gender.unique()"
   ]
  },
  {
   "cell_type": "markdown",
   "id": "d877f8ba",
   "metadata": {},
   "source": [
    "### Let's clean the ***test_indication*** column"
   ]
  },
  {
   "cell_type": "code",
   "execution_count": 73,
   "id": "b40fd758",
   "metadata": {},
   "outputs": [],
   "source": [
    "corona_11b = corona_10b.copy()\r\n",
    "corona_11a = corona_10a.copy()"
   ]
  },
  {
   "cell_type": "code",
   "execution_count": 74,
   "id": "ffaf760a",
   "metadata": {},
   "outputs": [
    {
     "data": {
      "text/plain": [
       "array(['Other', 'Abroad', 'Contact with confirmed'], dtype=object)"
      ]
     },
     "execution_count": 74,
     "metadata": {},
     "output_type": "execute_result"
    }
   ],
   "source": [
    "corona_11b.test_indication.unique()"
   ]
  },
  {
   "cell_type": "code",
   "execution_count": 75,
   "id": "945dace5",
   "metadata": {},
   "outputs": [
    {
     "data": {
      "text/plain": [
       "array(['Other', 'Abroad', 'Contact with confirmed'], dtype=object)"
      ]
     },
     "execution_count": 75,
     "metadata": {},
     "output_type": "execute_result"
    }
   ],
   "source": [
    "corona_11a.test_indication.unique()"
   ]
  },
  {
   "cell_type": "code",
   "execution_count": 76,
   "id": "4f5ae662",
   "metadata": {},
   "outputs": [],
   "source": [
    "## columns quite clean now"
   ]
  },
  {
   "cell_type": "markdown",
   "id": "2bd9bf53",
   "metadata": {},
   "source": [
    "## Final analysis of the df"
   ]
  },
  {
   "cell_type": "code",
   "execution_count": 77,
   "id": "f2cf9930",
   "metadata": {},
   "outputs": [
    {
     "data": {
      "text/html": [
       "<div>\n",
       "<style scoped>\n",
       "    .dataframe tbody tr th:only-of-type {\n",
       "        vertical-align: middle;\n",
       "    }\n",
       "\n",
       "    .dataframe tbody tr th {\n",
       "        vertical-align: top;\n",
       "    }\n",
       "\n",
       "    .dataframe thead th {\n",
       "        text-align: right;\n",
       "    }\n",
       "</style>\n",
       "<table border=\"1\" class=\"dataframe\">\n",
       "  <thead>\n",
       "    <tr style=\"text-align: right;\">\n",
       "      <th></th>\n",
       "      <th>test_date</th>\n",
       "      <th>cough</th>\n",
       "      <th>fever</th>\n",
       "      <th>sore_throat</th>\n",
       "      <th>shortness_of_breath</th>\n",
       "      <th>head_ache</th>\n",
       "      <th>corona_result</th>\n",
       "      <th>age_60_and_above</th>\n",
       "      <th>gender</th>\n",
       "      <th>test_indication</th>\n",
       "    </tr>\n",
       "  </thead>\n",
       "  <tbody>\n",
       "    <tr>\n",
       "      <th>122808</th>\n",
       "      <td>2020-04-14</td>\n",
       "      <td>1</td>\n",
       "      <td>0</td>\n",
       "      <td>0</td>\n",
       "      <td>0</td>\n",
       "      <td>0</td>\n",
       "      <td>negative</td>\n",
       "      <td>Yes</td>\n",
       "      <td>male</td>\n",
       "      <td>Other</td>\n",
       "    </tr>\n",
       "    <tr>\n",
       "      <th>122809</th>\n",
       "      <td>2020-04-14</td>\n",
       "      <td>1</td>\n",
       "      <td>0</td>\n",
       "      <td>0</td>\n",
       "      <td>0</td>\n",
       "      <td>0</td>\n",
       "      <td>positive</td>\n",
       "      <td>No</td>\n",
       "      <td>female</td>\n",
       "      <td>Other</td>\n",
       "    </tr>\n",
       "    <tr>\n",
       "      <th>122810</th>\n",
       "      <td>2020-04-14</td>\n",
       "      <td>0</td>\n",
       "      <td>0</td>\n",
       "      <td>0</td>\n",
       "      <td>0</td>\n",
       "      <td>0</td>\n",
       "      <td>negative</td>\n",
       "      <td>No</td>\n",
       "      <td>female</td>\n",
       "      <td>Other</td>\n",
       "    </tr>\n",
       "    <tr>\n",
       "      <th>122811</th>\n",
       "      <td>2020-04-14</td>\n",
       "      <td>0</td>\n",
       "      <td>1</td>\n",
       "      <td>0</td>\n",
       "      <td>0</td>\n",
       "      <td>0</td>\n",
       "      <td>negative</td>\n",
       "      <td>No</td>\n",
       "      <td>female</td>\n",
       "      <td>Abroad</td>\n",
       "    </tr>\n",
       "    <tr>\n",
       "      <th>122812</th>\n",
       "      <td>2020-04-14</td>\n",
       "      <td>1</td>\n",
       "      <td>0</td>\n",
       "      <td>0</td>\n",
       "      <td>0</td>\n",
       "      <td>0</td>\n",
       "      <td>negative</td>\n",
       "      <td>Yes</td>\n",
       "      <td>female</td>\n",
       "      <td>Other</td>\n",
       "    </tr>\n",
       "    <tr>\n",
       "      <th>122813</th>\n",
       "      <td>2020-04-14</td>\n",
       "      <td>0</td>\n",
       "      <td>0</td>\n",
       "      <td>0</td>\n",
       "      <td>0</td>\n",
       "      <td>0</td>\n",
       "      <td>positive</td>\n",
       "      <td>No</td>\n",
       "      <td>male</td>\n",
       "      <td>Other</td>\n",
       "    </tr>\n",
       "    <tr>\n",
       "      <th>122814</th>\n",
       "      <td>2020-04-14</td>\n",
       "      <td>0</td>\n",
       "      <td>0</td>\n",
       "      <td>0</td>\n",
       "      <td>0</td>\n",
       "      <td>0</td>\n",
       "      <td>negative</td>\n",
       "      <td>No</td>\n",
       "      <td>female</td>\n",
       "      <td>Abroad</td>\n",
       "    </tr>\n",
       "    <tr>\n",
       "      <th>122815</th>\n",
       "      <td>2020-04-14</td>\n",
       "      <td>1</td>\n",
       "      <td>0</td>\n",
       "      <td>0</td>\n",
       "      <td>0</td>\n",
       "      <td>0</td>\n",
       "      <td>positive</td>\n",
       "      <td>No</td>\n",
       "      <td>female</td>\n",
       "      <td>Contact with confirmed</td>\n",
       "    </tr>\n",
       "    <tr>\n",
       "      <th>122820</th>\n",
       "      <td>2020-04-14</td>\n",
       "      <td>0</td>\n",
       "      <td>0</td>\n",
       "      <td>0</td>\n",
       "      <td>0</td>\n",
       "      <td>0</td>\n",
       "      <td>negative</td>\n",
       "      <td>No</td>\n",
       "      <td>male</td>\n",
       "      <td>Other</td>\n",
       "    </tr>\n",
       "    <tr>\n",
       "      <th>122823</th>\n",
       "      <td>2020-04-14</td>\n",
       "      <td>1</td>\n",
       "      <td>1</td>\n",
       "      <td>1</td>\n",
       "      <td>0</td>\n",
       "      <td>0</td>\n",
       "      <td>negative</td>\n",
       "      <td>No</td>\n",
       "      <td>male</td>\n",
       "      <td>Contact with confirmed</td>\n",
       "    </tr>\n",
       "  </tbody>\n",
       "</table>\n",
       "</div>"
      ],
      "text/plain": [
       "         test_date  cough  fever  sore_throat  shortness_of_breath  head_ache  \\\n",
       "122808  2020-04-14      1      0            0                    0          0   \n",
       "122809  2020-04-14      1      0            0                    0          0   \n",
       "122810  2020-04-14      0      0            0                    0          0   \n",
       "122811  2020-04-14      0      1            0                    0          0   \n",
       "122812  2020-04-14      1      0            0                    0          0   \n",
       "122813  2020-04-14      0      0            0                    0          0   \n",
       "122814  2020-04-14      0      0            0                    0          0   \n",
       "122815  2020-04-14      1      0            0                    0          0   \n",
       "122820  2020-04-14      0      0            0                    0          0   \n",
       "122823  2020-04-14      1      1            1                    0          0   \n",
       "\n",
       "       corona_result age_60_and_above  gender         test_indication  \n",
       "122808      negative              Yes    male                   Other  \n",
       "122809      positive               No  female                   Other  \n",
       "122810      negative               No  female                   Other  \n",
       "122811      negative               No  female                  Abroad  \n",
       "122812      negative              Yes  female                   Other  \n",
       "122813      positive               No    male                   Other  \n",
       "122814      negative               No  female                  Abroad  \n",
       "122815      positive               No  female  Contact with confirmed  \n",
       "122820      negative               No    male                   Other  \n",
       "122823      negative               No    male  Contact with confirmed  "
      ]
     },
     "execution_count": 77,
     "metadata": {},
     "output_type": "execute_result"
    }
   ],
   "source": [
    "corona_11b.head(10)"
   ]
  },
  {
   "cell_type": "code",
   "execution_count": 78,
   "id": "87318d2b",
   "metadata": {},
   "outputs": [
    {
     "name": "stdout",
     "output_type": "stream",
     "text": [
      "<class 'pandas.core.frame.DataFrame'>\n",
      "Int64Index: 4178 entries, 122808 to 265117\n",
      "Data columns (total 10 columns):\n",
      " #   Column               Non-Null Count  Dtype \n",
      "---  ------               --------------  ----- \n",
      " 0   test_date            4178 non-null   object\n",
      " 1   cough                4178 non-null   int32 \n",
      " 2   fever                4178 non-null   int32 \n",
      " 3   sore_throat          4178 non-null   int32 \n",
      " 4   shortness_of_breath  4178 non-null   int32 \n",
      " 5   head_ache            4178 non-null   int32 \n",
      " 6   corona_result        4178 non-null   object\n",
      " 7   age_60_and_above     4178 non-null   object\n",
      " 8   gender               4178 non-null   object\n",
      " 9   test_indication      4178 non-null   object\n",
      "dtypes: int32(5), object(5)\n",
      "memory usage: 277.4+ KB\n"
     ]
    }
   ],
   "source": [
    "corona_11b.info()"
   ]
  },
  {
   "cell_type": "code",
   "execution_count": 79,
   "id": "d3aaa91c",
   "metadata": {},
   "outputs": [
    {
     "data": {
      "text/html": [
       "<div>\n",
       "<style scoped>\n",
       "    .dataframe tbody tr th:only-of-type {\n",
       "        vertical-align: middle;\n",
       "    }\n",
       "\n",
       "    .dataframe tbody tr th {\n",
       "        vertical-align: top;\n",
       "    }\n",
       "\n",
       "    .dataframe thead th {\n",
       "        text-align: right;\n",
       "    }\n",
       "</style>\n",
       "<table border=\"1\" class=\"dataframe\">\n",
       "  <thead>\n",
       "    <tr style=\"text-align: right;\">\n",
       "      <th></th>\n",
       "      <th>cough</th>\n",
       "      <th>fever</th>\n",
       "      <th>sore_throat</th>\n",
       "      <th>shortness_of_breath</th>\n",
       "      <th>head_ache</th>\n",
       "    </tr>\n",
       "  </thead>\n",
       "  <tbody>\n",
       "    <tr>\n",
       "      <th>count</th>\n",
       "      <td>4178.000000</td>\n",
       "      <td>4178.000000</td>\n",
       "      <td>4178.000000</td>\n",
       "      <td>4178.000000</td>\n",
       "      <td>4178.000000</td>\n",
       "    </tr>\n",
       "    <tr>\n",
       "      <th>mean</th>\n",
       "      <td>0.554811</td>\n",
       "      <td>0.497367</td>\n",
       "      <td>0.228339</td>\n",
       "      <td>0.189804</td>\n",
       "      <td>0.266156</td>\n",
       "    </tr>\n",
       "    <tr>\n",
       "      <th>std</th>\n",
       "      <td>0.497046</td>\n",
       "      <td>0.500053</td>\n",
       "      <td>0.419812</td>\n",
       "      <td>0.392193</td>\n",
       "      <td>0.442000</td>\n",
       "    </tr>\n",
       "    <tr>\n",
       "      <th>min</th>\n",
       "      <td>0.000000</td>\n",
       "      <td>0.000000</td>\n",
       "      <td>0.000000</td>\n",
       "      <td>0.000000</td>\n",
       "      <td>0.000000</td>\n",
       "    </tr>\n",
       "    <tr>\n",
       "      <th>25%</th>\n",
       "      <td>0.000000</td>\n",
       "      <td>0.000000</td>\n",
       "      <td>0.000000</td>\n",
       "      <td>0.000000</td>\n",
       "      <td>0.000000</td>\n",
       "    </tr>\n",
       "    <tr>\n",
       "      <th>50%</th>\n",
       "      <td>1.000000</td>\n",
       "      <td>0.000000</td>\n",
       "      <td>0.000000</td>\n",
       "      <td>0.000000</td>\n",
       "      <td>0.000000</td>\n",
       "    </tr>\n",
       "    <tr>\n",
       "      <th>75%</th>\n",
       "      <td>1.000000</td>\n",
       "      <td>1.000000</td>\n",
       "      <td>0.000000</td>\n",
       "      <td>0.000000</td>\n",
       "      <td>1.000000</td>\n",
       "    </tr>\n",
       "    <tr>\n",
       "      <th>max</th>\n",
       "      <td>1.000000</td>\n",
       "      <td>1.000000</td>\n",
       "      <td>1.000000</td>\n",
       "      <td>1.000000</td>\n",
       "      <td>1.000000</td>\n",
       "    </tr>\n",
       "  </tbody>\n",
       "</table>\n",
       "</div>"
      ],
      "text/plain": [
       "             cough        fever  sore_throat  shortness_of_breath    head_ache\n",
       "count  4178.000000  4178.000000  4178.000000          4178.000000  4178.000000\n",
       "mean      0.554811     0.497367     0.228339             0.189804     0.266156\n",
       "std       0.497046     0.500053     0.419812             0.392193     0.442000\n",
       "min       0.000000     0.000000     0.000000             0.000000     0.000000\n",
       "25%       0.000000     0.000000     0.000000             0.000000     0.000000\n",
       "50%       1.000000     0.000000     0.000000             0.000000     0.000000\n",
       "75%       1.000000     1.000000     0.000000             0.000000     1.000000\n",
       "max       1.000000     1.000000     1.000000             1.000000     1.000000"
      ]
     },
     "execution_count": 79,
     "metadata": {},
     "output_type": "execute_result"
    }
   ],
   "source": [
    "corona_11b.describe()"
   ]
  },
  {
   "cell_type": "markdown",
   "id": "9a109188",
   "metadata": {},
   "source": [
    "## Data Visualization"
   ]
  },
  {
   "cell_type": "markdown",
   "id": "682aa7ce",
   "metadata": {},
   "source": [
    "#### What are the chances that someone has covid by whether they cough or not?"
   ]
  },
  {
   "cell_type": "code",
   "execution_count": 80,
   "id": "734bd8f5",
   "metadata": {},
   "outputs": [
    {
     "data": {
      "image/png": "[encoded data removed]",
      "text/plain": [
       "<Figure size 864x576 with 1 Axes>"
      ]
     },
     "metadata": {
      "needs_background": "light"
     },
     "output_type": "display_data"
    }
   ],
   "source": [
    "plt.figure(figsize=(12, 8))\r\n",
    "corona_11b.groupby('corona_result').sum().cough.plot(kind='barh')\r\n",
    "plt.show()"
   ]
  },
  {
   "cell_type": "markdown",
   "id": "9105610b",
   "metadata": {},
   "source": [
    "#### What are the chances that someone has covid by whether they experience shortness of breath?"
   ]
  },
  {
   "cell_type": "code",
   "execution_count": 81,
   "id": "62f82ecf",
   "metadata": {},
   "outputs": [
    {
     "data": {
      "image/png": "[encoded data removed]",
      "text/plain": [
       "<Figure size 864x576 with 1 Axes>"
      ]
     },
     "metadata": {
      "needs_background": "light"
     },
     "output_type": "display_data"
    }
   ],
   "source": [
    "plt.figure(figsize=(12, 8))\r\n",
    "corona_11b.groupby('corona_result').sum().shortness_of_breath.plot(kind='bar')\r\n",
    "plt.show()"
   ]
  },
  {
   "cell_type": "markdown",
   "id": "8076662f",
   "metadata": {},
   "source": [
    "#### What are the chances that someone has covid by whether they have a fever?"
   ]
  },
  {
   "cell_type": "code",
   "execution_count": 82,
   "id": "74609da3",
   "metadata": {},
   "outputs": [
    {
     "data": {
      "image/png": "[encoded data removed]",
      "text/plain": [
       "<Figure size 864x576 with 1 Axes>"
      ]
     },
     "metadata": {
      "needs_background": "light"
     },
     "output_type": "display_data"
    }
   ],
   "source": [
    "plt.figure(figsize=(12, 8))\n",
    "corona_11b.groupby('corona_result').sum().fever.plot(kind='bar')\n",
    "plt.show()"
   ]
  },
  {
   "cell_type": "markdown",
   "id": "8196291d",
   "metadata": {},
   "source": [
    "#### What are the chances that someone has covid by whether they have a sore throat?"
   ]
  },
  {
   "cell_type": "code",
   "execution_count": 83,
   "id": "bdebfa3d",
   "metadata": {},
   "outputs": [
    {
     "data": {
      "image/png": "[encoded data removed]",
      "text/plain": [
       "<Figure size 864x576 with 1 Axes>"
      ]
     },
     "metadata": {
      "needs_background": "light"
     },
     "output_type": "display_data"
    }
   ],
   "source": [
    "plt.figure(figsize=(12, 8))\n",
    "corona_11b.groupby('corona_result').sum().sore_throat.plot(kind='bar')\n",
    "plt.show()"
   ]
  },
  {
   "cell_type": "markdown",
   "id": "063e5420",
   "metadata": {},
   "source": [
    "#### What are the chances that someone has covid by the various characteristics?"
   ]
  },
  {
   "cell_type": "code",
   "execution_count": 84,
   "id": "cb4d37ec",
   "metadata": {},
   "outputs": [
    {
     "data": {
      "text/plain": [
       "<Figure size 864x576 with 0 Axes>"
      ]
     },
     "metadata": {},
     "output_type": "display_data"
    },
    {
     "data": {
      "image/png": "[encoded data removed]",
      "text/plain": [
       "<Figure size 432x288 with 1 Axes>"
      ]
     },
     "metadata": {
      "needs_background": "light"
     },
     "output_type": "display_data"
    }
   ],
   "source": [
    "plt.figure(figsize=(12, 8))\n",
    "corona_11b.groupby('corona_result').sum().plot(kind='bar')\n",
    "plt.show()"
   ]
  },
  {
   "cell_type": "markdown",
   "id": "3ad5b072",
   "metadata": {},
   "source": [
    "#### What are the likelihood that someone has covid based on where he has been"
   ]
  },
  {
   "cell_type": "code",
   "execution_count": 85,
   "id": "2bb78bfd",
   "metadata": {},
   "outputs": [
    {
     "data": {
      "image/png": "[encoded data removed]",
      "text/plain": [
       "<Figure size 720x576 with 1 Axes>"
      ]
     },
     "metadata": {
      "needs_background": "light"
     },
     "output_type": "display_data"
    }
   ],
   "source": [
    "plt.figure(figsize=(10, 8))\n",
    "corona_11b.groupby('test_indication').shortness_of_breath.sum().plot(kind='bar')\n",
    "plt.show()"
   ]
  },
  {
   "cell_type": "code",
   "execution_count": 86,
   "id": "4776b1e6",
   "metadata": {},
   "outputs": [],
   "source": [
    "## save the dataset\n",
    "corona_11b.to_csv('clean_covid.csv', sep=',', index=False, )"
   ]
  },
  {
   "cell_type": "code",
   "execution_count": 88,
   "id": "b103c822-fb4f-4cc0-8bcc-d67c00bc3ccf",
   "metadata": {},
   "outputs": [],
   "source": [
    "corona = pd.read_csv('clean_covid.csv')"
   ]
  },
  {
   "cell_type": "markdown",
   "id": "28ad7680-0678-4157-8ffe-261dfd1bcb14",
   "metadata": {},
   "source": [
    "#### Showing the numbers of people with covid and without"
   ]
  },
  {
   "cell_type": "code",
   "execution_count": 90,
   "id": "c67d9e0d-e3ca-415a-aa12-a684d548009e",
   "metadata": {},
   "outputs": [
    {
     "data": {
      "text/plain": [
       "Text(0.5, 1.0, 'Numbers of people with covid and those without')"
      ]
     },
     "execution_count": 90,
     "metadata": {},
     "output_type": "execute_result"
    },
    {
     "data": {
      "image/png": "[encoded data removed]",
      "text/plain": [
       "<Figure size 864x576 with 1 Axes>"
      ]
     },
     "metadata": {
      "needs_background": "light"
     },
     "output_type": "display_data"
    }
   ],
   "source": [
    "ax, fig = plt.subplots(figsize=(12,8))\n",
    "sns.countplot(data=corona, x='corona_result')\n",
    "plt.title('Numbers of people with covid and those without')"
   ]
  },
  {
   "cell_type": "markdown",
   "id": "467f4117-2747-4f30-8b30-750c36f582de",
   "metadata": {},
   "source": [
    "#### Showing the numbers of people with covid and without based on gender"
   ]
  },
  {
   "cell_type": "code",
   "execution_count": 94,
   "id": "b8f6dfc0-3145-4b96-8180-9d5b26199b4a",
   "metadata": {},
   "outputs": [
    {
     "data": {
      "image/png": "[encoded data removed]",
      "text/plain": [
       "<Figure size 864x576 with 1 Axes>"
      ]
     },
     "metadata": {
      "needs_background": "light"
     },
     "output_type": "display_data"
    }
   ],
   "source": [
    "ax, fig = plt.subplots(figsize=(12,8))\n",
    "sns.countplot(data=corona, x='corona_result', hue='gender')\n",
    "plt.title('Covid victims based on gender')\n",
    "plt.legend(loc=2)\n",
    "plt.show()"
   ]
  },
  {
   "cell_type": "code",
   "execution_count": null,
   "id": "e0495e85-97c0-418f-bbb8-d65ccac04f5b",
   "metadata": {},
   "outputs": [],
   "source": []
  }
 ],
 "metadata": {
  "kernelspec": {
   "display_name": "Python 3",
   "language": "python",
   "name": "python3"
  },
  "language_info": {
   "codemirror_mode": {
    "name": "ipython",
    "version": 3
   },
   "file_extension": ".py",
   "mimetype": "text/x-python",
   "name": "python",
   "nbconvert_exporter": "python",
   "pygments_lexer": "ipython3",
   "version": "3.8.8"
  }
 },
 "nbformat": 4,
 "nbformat_minor": 5
}
